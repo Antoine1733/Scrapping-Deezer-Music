{
 "cells": [
  {
   "cell_type": "code",
   "execution_count": 1,
   "metadata": {},
   "outputs": [],
   "source": [
    "import pandas as pd\n",
    "import selenium\n",
    "import time\n",
    "from selenium import webdriver\n",
    "from selenium.webdriver.chrome.options import Options"
   ]
  },
  {
   "cell_type": "code",
   "execution_count": 3,
   "metadata": {},
   "outputs": [
    {
     "name": "stderr",
     "output_type": "stream",
     "text": [
      "C:\\Users\\antoi\\anaconda3\\lib\\site-packages\\ipykernel_launcher.py:6: DeprecationWarning: executable_path has been deprecated, please pass in a Service object\n",
      "  \n",
      "C:\\Users\\antoi\\anaconda3\\lib\\site-packages\\ipykernel_launcher.py:6: DeprecationWarning: use options instead of chrome_options\n",
      "  \n",
      "C:\\Users\\antoi\\anaconda3\\lib\\site-packages\\ipykernel_launcher.py:15: DeprecationWarning: find_elements_by_* commands are deprecated. Please use find_elements() instead\n",
      "  from ipykernel import kernelapp as app\n"
     ]
    }
   ],
   "source": [
    "path   = \"./chromedriver\"\n",
    "\n",
    "options = Options()\n",
    "options.add_argument('--headless')\n",
    "#options.add_argument('--disable-gpu')  # Last I checked this was necessary.\n",
    "driver = webdriver.Chrome(executable_path=path, chrome_options=options)\n",
    "url = 'https://www.deezer.com/fr/playlist/2560242784'\n",
    "driver.get(url)\n",
    "\n",
    "all_music = []\n",
    "last_scroll_y = driver.execute_script(\"return window.scrollY\")\n",
    "for i in range(0, 150):\n",
    "    try :\n",
    "        #first scrape\n",
    "        musics = driver.find_elements_by_class_name('ZLI1L')\n",
    "        for music in musics:\n",
    "            all_music.append(music.text)\n",
    "        #then scroll down +500px\n",
    "        driver.execute_script(\"window.scrollTo(0, window.scrollY+500);\")\n",
    "        time.sleep(0.2) #some wait for the new content (200ms)\n",
    "        current_scroll_y = driver.execute_script(\"return window.scrollY\")\n",
    "        \n",
    "        # exit the loop if the page is not scrolled any more\n",
    "        if current_scroll_y == last_scroll_y:\n",
    "            break\n",
    "        last_scroll_y = current_scroll_y\n",
    "    except Exception as e:\n",
    "        print(e)\n",
    "\n",
    "# this removes all empty strings\n",
    "all_music = list(filter(None, all_music))"
   ]
  },
  {
   "cell_type": "code",
   "execution_count": 4,
   "metadata": {},
   "outputs": [],
   "source": [
    "all_music = list(dict.fromkeys(all_music))"
   ]
  },
  {
   "cell_type": "code",
   "execution_count": 5,
   "metadata": {},
   "outputs": [],
   "source": [
    "all_title = []\n",
    "all_artist = []"
   ]
  },
  {
   "cell_type": "code",
   "execution_count": 6,
   "metadata": {},
   "outputs": [],
   "source": [
    "for music in all_music:\n",
    "    all_title.append(music.split('\\n')[0])\n",
    "    if len(music.split('\\n'))>3:     \n",
    "        all_artist.append(music.split('\\n')[2])\n",
    "    else:\n",
    "        all_artist.append(music.split('\\n')[1])"
   ]
  },
  {
   "cell_type": "code",
   "execution_count": 7,
   "metadata": {},
   "outputs": [],
   "source": [
    "Deezer_musics = pd.DataFrame()\n",
    "Deezer_musics['title']= all_title\n",
    "Deezer_musics['artist']=all_artist"
   ]
  },
  {
   "cell_type": "code",
   "execution_count": 8,
   "metadata": {},
   "outputs": [
    {
     "data": {
      "text/html": [
       "<div>\n",
       "<style scoped>\n",
       "    .dataframe tbody tr th:only-of-type {\n",
       "        vertical-align: middle;\n",
       "    }\n",
       "\n",
       "    .dataframe tbody tr th {\n",
       "        vertical-align: top;\n",
       "    }\n",
       "\n",
       "    .dataframe thead th {\n",
       "        text-align: right;\n",
       "    }\n",
       "</style>\n",
       "<table border=\"1\" class=\"dataframe\">\n",
       "  <thead>\n",
       "    <tr style=\"text-align: right;\">\n",
       "      <th></th>\n",
       "      <th>title</th>\n",
       "      <th>artist</th>\n",
       "    </tr>\n",
       "  </thead>\n",
       "  <tbody>\n",
       "    <tr>\n",
       "      <th>0</th>\n",
       "      <td>Réalité augmentée</td>\n",
       "      <td>Nekfeu</td>\n",
       "    </tr>\n",
       "    <tr>\n",
       "      <th>1</th>\n",
       "      <td>Poseidon</td>\n",
       "      <td>Django</td>\n",
       "    </tr>\n",
       "    <tr>\n",
       "      <th>2</th>\n",
       "      <td>Α. Nwaar Is The New Black</td>\n",
       "      <td>Damso</td>\n",
       "    </tr>\n",
       "    <tr>\n",
       "      <th>3</th>\n",
       "      <td>B. #QuedusaalVie</td>\n",
       "      <td>Damso</td>\n",
       "    </tr>\n",
       "    <tr>\n",
       "      <th>4</th>\n",
       "      <td>Γ. Mosaïque solitaire</td>\n",
       "      <td>Damso</td>\n",
       "    </tr>\n",
       "    <tr>\n",
       "      <th>...</th>\n",
       "      <td>...</td>\n",
       "      <td>...</td>\n",
       "    </tr>\n",
       "    <tr>\n",
       "      <th>1122</th>\n",
       "      <td>Steady Boy</td>\n",
       "      <td>Elisa Jo, Nekfeu</td>\n",
       "    </tr>\n",
       "    <tr>\n",
       "      <th>1123</th>\n",
       "      <td>Yamamoto</td>\n",
       "      <td>Bekar</td>\n",
       "    </tr>\n",
       "    <tr>\n",
       "      <th>1124</th>\n",
       "      <td>Mon cœur et ma tête</td>\n",
       "      <td>Bekar</td>\n",
       "    </tr>\n",
       "    <tr>\n",
       "      <th>1125</th>\n",
       "      <td>Regard froid</td>\n",
       "      <td>Bekar</td>\n",
       "    </tr>\n",
       "    <tr>\n",
       "      <th>1126</th>\n",
       "      <td>Potion magique</td>\n",
       "      <td>Bekar, Balao</td>\n",
       "    </tr>\n",
       "  </tbody>\n",
       "</table>\n",
       "<p>1127 rows × 2 columns</p>\n",
       "</div>"
      ],
      "text/plain": [
       "                          title            artist\n",
       "0             Réalité augmentée            Nekfeu\n",
       "1                      Poseidon            Django\n",
       "2     Α. Nwaar Is The New Black             Damso\n",
       "3              B. #QuedusaalVie             Damso\n",
       "4         Γ. Mosaïque solitaire             Damso\n",
       "...                         ...               ...\n",
       "1122                 Steady Boy  Elisa Jo, Nekfeu\n",
       "1123                   Yamamoto             Bekar\n",
       "1124        Mon cœur et ma tête             Bekar\n",
       "1125               Regard froid             Bekar\n",
       "1126             Potion magique      Bekar, Balao\n",
       "\n",
       "[1127 rows x 2 columns]"
      ]
     },
     "execution_count": 8,
     "metadata": {},
     "output_type": "execute_result"
    }
   ],
   "source": [
    "Deezer_musics"
   ]
  },
  {
   "cell_type": "code",
   "execution_count": 81,
   "metadata": {},
   "outputs": [],
   "source": [
    "Deezer_music.to_csv('Deezer_musics.csv', index=False)"
   ]
  }
 ],
 "metadata": {
  "kernelspec": {
   "display_name": "Python 3",
   "language": "python",
   "name": "python3"
  },
  "language_info": {
   "codemirror_mode": {
    "name": "ipython",
    "version": 3
   },
   "file_extension": ".py",
   "mimetype": "text/x-python",
   "name": "python",
   "nbconvert_exporter": "python",
   "pygments_lexer": "ipython3",
   "version": "3.7.6"
  }
 },
 "nbformat": 4,
 "nbformat_minor": 4
}
